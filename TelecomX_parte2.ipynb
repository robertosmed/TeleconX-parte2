{
  "cells": [
    {
      "cell_type": "markdown",
      "metadata": {
        "id": "Yg7As1VwWnTw"
      },
      "source": [
        "#Extração do Arquivo Tratado"
      ]
    },
    {
      "cell_type": "code",
      "execution_count": 1,
      "metadata": {
        "id": "ABBKEVbP4EXH",
        "colab": {
          "base_uri": "https://localhost:8080/"
        },
        "outputId": "e39c9e0d-f16f-492c-8df5-897580ea9607"
      },
      "outputs": [
        {
          "output_type": "stream",
          "name": "stdout",
          "text": [
            "Arquivo exportado com sucesso como TelecomX_Data_CLEAN.csv!\n"
          ]
        }
      ],
      "source": [
        "import pandas as pd\n",
        "import json\n",
        "\n",
        "# Carregar o arquivo JSON\n",
        "with open(\"/content/TelecomX_Data.json\", \"r\", encoding=\"utf-8\") as f:\n",
        "    data = json.load(f)\n",
        "\n",
        "# Normalizar os dados aninhados\n",
        "df = pd.json_normalize(data)\n",
        "\n",
        "# Selecionar e renomear colunas relevantes\n",
        "df_clean = df[[\n",
        "    \"customerID\", \"Churn\",\n",
        "    \"customer.gender\", \"customer.SeniorCitizen\", \"customer.Partner\", \"customer.Dependents\", \"customer.tenure\",\n",
        "    \"phone.PhoneService\", \"phone.MultipleLines\",\n",
        "    \"internet.InternetService\", \"internet.OnlineSecurity\", \"internet.OnlineBackup\", \"internet.DeviceProtection\",\n",
        "    \"internet.TechSupport\", \"internet.StreamingTV\", \"internet.StreamingMovies\",\n",
        "    \"account.Contract\", \"account.PaperlessBilling\", \"account.PaymentMethod\",\n",
        "    \"account.Charges.Monthly\", \"account.Charges.Total\"\n",
        "]].copy()\n",
        "\n",
        "df_clean.columns = [\n",
        "    \"customerID\", \"Churn\", \"Gender\", \"SeniorCitizen\", \"Partner\", \"Dependents\", \"Tenure\",\n",
        "    \"PhoneService\", \"MultipleLines\", \"InternetService\", \"OnlineSecurity\", \"OnlineBackup\",\n",
        "    \"DeviceProtection\", \"TechSupport\", \"StreamingTV\", \"StreamingMovies\",\n",
        "    \"Contract\", \"PaperlessBilling\", \"PaymentMethod\", \"MonthlyCharges\", \"TotalCharges\"\n",
        "]\n",
        "\n",
        "# Corrigir tipo de dado e valores ausentes\n",
        "df_clean[\"TotalCharges\"] = pd.to_numeric(df_clean[\"TotalCharges\"], errors=\"coerce\")\n",
        "\n",
        "# Salvar em CSV\n",
        "df_clean.to_csv(\"TelecomX_Data_CLEAN.csv\", index=False)\n",
        "\n",
        "print(\"Arquivo exportado com sucesso como TelecomX_Data_CLEAN.csv!\")\n"
      ]
    },
    {
      "cell_type": "code",
      "execution_count": 1,
      "metadata": {
        "id": "uIfiKymo2Aw7"
      },
      "outputs": [],
      "source": []
    },
    {
      "cell_type": "markdown",
      "metadata": {
        "id": "2jTO0ZBasr5D"
      },
      "source": [
        "#Remoção de Colunas Irrelevantes\n"
      ]
    },
    {
      "cell_type": "code",
      "execution_count": 2,
      "metadata": {
        "id": "uA6qdwMZCiIW",
        "colab": {
          "base_uri": "https://localhost:8080/"
        },
        "outputId": "8cb8124d-08da-4874-b9c5-369be8cc0b3d"
      },
      "outputs": [
        {
          "output_type": "stream",
          "name": "stdout",
          "text": [
            "  Churn  Gender  SeniorCitizen Partner Dependents  Tenure PhoneService  \\\n",
            "0    No  Female              0     Yes        Yes       9          Yes   \n",
            "1    No    Male              0      No         No       9          Yes   \n",
            "2   Yes    Male              0      No         No       4          Yes   \n",
            "3   Yes    Male              1     Yes         No      13          Yes   \n",
            "4   Yes  Female              1     Yes         No       3          Yes   \n",
            "\n",
            "  MultipleLines InternetService OnlineSecurity OnlineBackup DeviceProtection  \\\n",
            "0            No             DSL             No          Yes               No   \n",
            "1           Yes             DSL             No           No               No   \n",
            "2            No     Fiber optic             No           No              Yes   \n",
            "3            No     Fiber optic             No          Yes              Yes   \n",
            "4            No     Fiber optic             No           No               No   \n",
            "\n",
            "  TechSupport StreamingTV StreamingMovies        Contract PaperlessBilling  \\\n",
            "0         Yes         Yes              No        One year              Yes   \n",
            "1          No          No             Yes  Month-to-month               No   \n",
            "2          No          No              No  Month-to-month              Yes   \n",
            "3          No         Yes             Yes  Month-to-month              Yes   \n",
            "4         Yes         Yes              No  Month-to-month              Yes   \n",
            "\n",
            "      PaymentMethod  MonthlyCharges  TotalCharges  \n",
            "0      Mailed check            65.6        593.30  \n",
            "1      Mailed check            59.9        542.40  \n",
            "2  Electronic check            73.9        280.85  \n",
            "3  Electronic check            98.0       1237.85  \n",
            "4      Mailed check            83.9        267.40  \n"
          ]
        }
      ],
      "source": [
        "# Remove identificadores únicos que não agregam valor preditivo\n",
        "df_clean = df_clean.drop(columns=[\"customerID\"])\n",
        "\n",
        "# Verifica as primeiras linhas\n",
        "print(df_clean.head())\n"
      ]
    },
    {
      "cell_type": "code",
      "execution_count": 2,
      "metadata": {
        "id": "MbrTGgOOtNk3"
      },
      "outputs": [],
      "source": []
    },
    {
      "cell_type": "markdown",
      "metadata": {
        "id": "BKikj7xZtOWS"
      },
      "source": [
        "# transformação com One-Hot Encoding:"
      ]
    },
    {
      "cell_type": "code",
      "source": [
        "# 7. Mapeia colunas binárias \"Yes\"/\"No\" para 1/0\n",
        "bin_cols = [\"Churn\", \"Partner\", \"Dependents\", \"PhoneService\", \"PaperlessBilling\"]\n",
        "df_clean[bin_cols] = df_clean[bin_cols].replace({\"Yes\": 1, \"No\": 0})\n",
        "\n",
        "# 8. One-Hot Encoding nas variáveis categóricas\n",
        "df_encoded = pd.get_dummies(df_clean, drop_first=True)\n",
        "\n",
        "# 9. Exibe as primeiras linhas\n",
        "print(df_encoded.head())"
      ],
      "metadata": {
        "colab": {
          "base_uri": "https://localhost:8080/"
        },
        "id": "3XjB8h644B8D",
        "outputId": "fe6dabbb-3bfb-4a2c-f797-8191b062ec81"
      },
      "execution_count": 3,
      "outputs": [
        {
          "output_type": "stream",
          "name": "stdout",
          "text": [
            "   SeniorCitizen  Partner  Dependents  Tenure  PhoneService  PaperlessBilling  \\\n",
            "0              0        1           1       9             1                 1   \n",
            "1              0        0           0       9             1                 0   \n",
            "2              0        0           0       4             1                 1   \n",
            "3              1        1           0      13             1                 1   \n",
            "4              1        1           0       3             1                 1   \n",
            "\n",
            "   MonthlyCharges  TotalCharges  Churn_1  Churn_  ...  TechSupport_Yes  \\\n",
            "0            65.6        593.30    False   False  ...             True   \n",
            "1            59.9        542.40    False   False  ...            False   \n",
            "2            73.9        280.85     True   False  ...            False   \n",
            "3            98.0       1237.85     True   False  ...            False   \n",
            "4            83.9        267.40     True   False  ...             True   \n",
            "\n",
            "   StreamingTV_No internet service  StreamingTV_Yes  \\\n",
            "0                            False             True   \n",
            "1                            False            False   \n",
            "2                            False            False   \n",
            "3                            False             True   \n",
            "4                            False             True   \n",
            "\n",
            "   StreamingMovies_No internet service  StreamingMovies_Yes  \\\n",
            "0                                False                False   \n",
            "1                                False                 True   \n",
            "2                                False                False   \n",
            "3                                False                 True   \n",
            "4                                False                False   \n",
            "\n",
            "   Contract_One year  Contract_Two year  \\\n",
            "0               True              False   \n",
            "1              False              False   \n",
            "2              False              False   \n",
            "3              False              False   \n",
            "4              False              False   \n",
            "\n",
            "   PaymentMethod_Credit card (automatic)  PaymentMethod_Electronic check  \\\n",
            "0                                  False                           False   \n",
            "1                                  False                           False   \n",
            "2                                  False                            True   \n",
            "3                                  False                            True   \n",
            "4                                  False                           False   \n",
            "\n",
            "   PaymentMethod_Mailed check  \n",
            "0                        True  \n",
            "1                        True  \n",
            "2                       False  \n",
            "3                       False  \n",
            "4                        True  \n",
            "\n",
            "[5 rows x 32 columns]\n"
          ]
        },
        {
          "output_type": "stream",
          "name": "stderr",
          "text": [
            "/tmp/ipython-input-538188625.py:3: FutureWarning: Downcasting behavior in `replace` is deprecated and will be removed in a future version. To retain the old behavior, explicitly call `result.infer_objects(copy=False)`. To opt-in to the future behavior, set `pd.set_option('future.no_silent_downcasting', True)`\n",
            "  df_clean[bin_cols] = df_clean[bin_cols].replace({\"Yes\": 1, \"No\": 0})\n"
          ]
        }
      ]
    },
    {
      "cell_type": "markdown",
      "metadata": {
        "id": "74G9PUrYunt0"
      },
      "source": [
        "# proporção e verificação de desequilíbrio"
      ]
    },
    {
      "cell_type": "code",
      "execution_count": 4,
      "metadata": {
        "id": "AZ94RWffD3SB",
        "colab": {
          "base_uri": "https://localhost:8080/"
        },
        "outputId": "6d42e4f4-4223-434f-fd20-a69bc818790d"
      },
      "outputs": [
        {
          "output_type": "stream",
          "name": "stdout",
          "text": [
            "Contagem de clientes:\n",
            "Churn\n",
            "0    5174\n",
            "1    1869\n",
            "      224\n",
            "Name: count, dtype: int64\n",
            "\n",
            "Proporção de classes:\n",
            "Churn\n",
            "0    0.711986\n",
            "1    0.257190\n",
            "     0.030824\n",
            "Name: proportion, dtype: float64\n",
            "\n",
            " Desequilíbrio detectado: Uma das classes é dominante.\n"
          ]
        }
      ],
      "source": [
        "# Contar ocorrências de cada classe\n",
        "churn_counts = df_clean[\"Churn\"].value_counts()\n",
        "\n",
        "# Calcular proporção\n",
        "churn_proportion = df_clean[\"Churn\"].value_counts(normalize=True)\n",
        "\n",
        "# Exibir os resultados\n",
        "print(\"Contagem de clientes:\")\n",
        "print(churn_counts)\n",
        "\n",
        "print(\"\\nProporção de classes:\")\n",
        "print(churn_proportion)\n",
        "\n",
        "# Avaliar se há desequilíbrio\n",
        "threshold = 0.60  # exemplo: se uma classe tiver mais de 60%, considera-se desbalanceado\n",
        "\n",
        "if churn_proportion.max() > threshold:\n",
        "    print(\"\\n Desequilíbrio detectado: Uma das classes é dominante.\")\n",
        "else:\n",
        "    print(\"\\n As classes estão relativamente balanceadas.\")\n"
      ]
    },
    {
      "cell_type": "markdown",
      "metadata": {
        "id": "ryCGjZB0BrgM"
      },
      "source": [
        "# Balanceamento de Classes"
      ]
    },
    {
      "cell_type": "code",
      "source": [
        "if \"Churn\" not in df_encoded.columns and \"Churn\" in df_clean.columns:\n",
        "    df_encoded[\"Churn\"] = df_clean[\"Churn\"]\n"
      ],
      "metadata": {
        "id": "P2zOTK7DADfz"
      },
      "execution_count": 5,
      "outputs": []
    },
    {
      "cell_type": "code",
      "source": [
        "from imblearn.over_sampling import SMOTE\n",
        "from imblearn.under_sampling import RandomUnderSampler\n",
        "from collections import Counter\n",
        "from sklearn.model_selection import train_test_split\n",
        "import numpy as np\n",
        "from sklearn.impute import SimpleImputer\n",
        "\n",
        "# Converter a coluna 'Churn' em numérica, forçando erros\n",
        "df_encoded[\"Churn\"] = pd.to_numeric(df_encoded[\"Churn\"], errors=\"coerce\")\n",
        "\n",
        "# Descartar linhas onde 'Churn' é NaN (que eram as strings vazias)\n",
        "df_encoded.dropna(subset=[\"Churn\"], inplace=True)\n",
        "\n",
        "# Cconverter 'Char' para tipo inteiro\n",
        "df_encoded[\"Churn\"] = df_encoded[\"Churn\"].astype(int)\n",
        "\n",
        "# Separar features (X) e target (y)\n",
        "X = df_encoded.drop(\"Churn\", axis=1)\n",
        "y = df_encoded[\"Churn\"]\n",
        "\n",
        "\n",
        "# Separar treino/teste antes de balancear\n",
        "X_train, X_test, y_train, y_test = train_test_split(X, y, stratify=y, test_size=0.3, random_state=42)\n",
        "\n",
        "print(\"Distribuição antes do balanceamento:\", Counter(y_train))\n",
        "\n",
        "# Impute missing values in X_train\n",
        "imputer = SimpleImputer(strategy='mean') # or 'median', 'most_frequent'\n",
        "X_train_imputed = imputer.fit_transform(X_train)\n",
        "\n",
        "# === 1. OVERSAMPLING com SMOTE ===\n",
        "smote = SMOTE(random_state=42)\n",
        "X_smote, y_smote = smote.fit_resample(X_train_imputed, y_train)\n",
        "print(\"Após SMOTE:\", Counter(y_smote))\n",
        "\n",
        "# Impute missing values in X_test para uso posterior (embora não seja usado nesta célula)\n",
        "X_test_imputed = imputer.transform(X_test)\n",
        "\n",
        "# === 2. UNDERSAMPLING ===\n",
        "under = RandomUnderSampler(random_state=42)\n",
        "X_under, y_under = under.fit_resample(X_train_imputed, y_train)\n",
        "print(\"Após Undersampling:\", Counter(y_under))"
      ],
      "metadata": {
        "colab": {
          "base_uri": "https://localhost:8080/"
        },
        "id": "oZghZecMB33m",
        "outputId": "ec0686a3-db0f-47ab-abfc-fd0856075129"
      },
      "execution_count": 6,
      "outputs": [
        {
          "output_type": "stream",
          "name": "stdout",
          "text": [
            "Distribuição antes do balanceamento: Counter({0: 3622, 1: 1308})\n",
            "Após SMOTE: Counter({0: 3622, 1: 3622})\n",
            "Após Undersampling: Counter({0: 1308, 1: 1308})\n"
          ]
        }
      ]
    },
    {
      "cell_type": "markdown",
      "metadata": {
        "id": "cwVMOIMpWWfM"
      },
      "source": [
        "# Análise de Correlação"
      ]
    },
    {
      "cell_type": "code",
      "source": [
        "import seaborn as sns\n",
        "import matplotlib.pyplot as plt\n",
        "\n",
        "# Calcular a matriz de correlação\n",
        "correlation_matrix = df_encoded.corr(numeric_only=True)\n",
        "\n",
        "# Exibir apenas correlações com a variável alvo: Churn\n",
        "churn_corr = correlation_matrix[\"Churn\"].sort_values(ascending=False)\n",
        "\n",
        "print(\"Correlação com 'Churn':\")\n",
        "print(churn_corr)\n",
        "\n"
      ],
      "metadata": {
        "colab": {
          "base_uri": "https://localhost:8080/"
        },
        "id": "CLUpL3LHEcOi",
        "outputId": "3b301891-ae88-4bdf-8057-7e9c3e0c62e4"
      },
      "execution_count": 7,
      "outputs": [
        {
          "output_type": "stream",
          "name": "stdout",
          "text": [
            "Correlação com 'Churn':\n",
            "Churn_1                                  1.000000\n",
            "Churn                                    1.000000\n",
            "InternetService_Fiber optic              0.308020\n",
            "PaymentMethod_Electronic check           0.301919\n",
            "MonthlyCharges                           0.193356\n",
            "PaperlessBilling                         0.191825\n",
            "SeniorCitizen                            0.150889\n",
            "StreamingTV_Yes                          0.063228\n",
            "StreamingMovies_Yes                      0.061382\n",
            "MultipleLines_Yes                        0.040102\n",
            "PhoneService                             0.011942\n",
            "Gender_Male                             -0.008612\n",
            "MultipleLines_No phone service          -0.011942\n",
            "DeviceProtection_Yes                    -0.066160\n",
            "OnlineBackup_Yes                        -0.082255\n",
            "PaymentMethod_Mailed check              -0.091683\n",
            "PaymentMethod_Credit card (automatic)   -0.134302\n",
            "Partner                                 -0.150448\n",
            "Dependents                              -0.164221\n",
            "TechSupport_Yes                         -0.164674\n",
            "OnlineSecurity_Yes                      -0.171226\n",
            "Contract_One year                       -0.177820\n",
            "TotalCharges                            -0.199484\n",
            "InternetService_No                      -0.227890\n",
            "StreamingTV_No internet service         -0.227890\n",
            "OnlineSecurity_No internet service      -0.227890\n",
            "OnlineBackup_No internet service        -0.227890\n",
            "DeviceProtection_No internet service    -0.227890\n",
            "StreamingMovies_No internet service     -0.227890\n",
            "TechSupport_No internet service         -0.227890\n",
            "Contract_Two year                       -0.302253\n",
            "Tenure                                  -0.352229\n",
            "Churn_                                        NaN\n",
            "Name: Churn, dtype: float64\n"
          ]
        }
      ]
    },
    {
      "cell_type": "code",
      "source": [],
      "metadata": {
        "id": "rR2lpBwwEcGJ"
      },
      "execution_count": 7,
      "outputs": []
    },
    {
      "cell_type": "markdown",
      "source": [
        "# Análises Direcionadas"
      ],
      "metadata": {
        "id": "ZdOukKt4EdZZ"
      }
    },
    {
      "cell_type": "code",
      "source": [
        "import matplotlib.pyplot as plt\n",
        "import seaborn as sns\n",
        "\n",
        "# Gráfico 1: Tipo de Contrato × Evasão\n",
        "plt.figure(figsize=(8, 5))\n",
        "sns.countplot(x=\"Contract\", hue=\"Churn\", data=df_clean)\n",
        "plt.title(\"Tipo de Contrato × Evasão\")\n",
        "plt.xlabel(\"Tipo de Contrato\")\n",
        "plt.ylabel(\"Número de Clientes\")\n",
        "plt.legend(title=\"Evasão\")\n",
        "plt.show()\n"
      ],
      "metadata": {
        "colab": {
          "base_uri": "https://localhost:8080/",
          "height": 487
        },
        "id": "NVQvTfUcEb2T",
        "outputId": "4f51b8c1-d3c3-4dac-b061-5f57c0469bd0"
      },
      "execution_count": 8,
      "outputs": [
        {
          "output_type": "display_data",
          "data": {
            "text/plain": [
              "<Figure size 800x500 with 1 Axes>"
            ],
            "image/png": "[encoded data removed]"
          },
          "metadata": {}
        }
      ]
    },
    {
      "cell_type": "code",
      "source": [
        "# Gráfico 2: Total Gasto × Evasão (Boxplot)\n",
        "plt.figure(figsize=(8, 5))\n",
        "sns.boxplot(x=\"Churn\", y=\"TotalCharges\", data=df_clean)\n",
        "plt.title(\"Total Gasto × Evasão (Boxplot)\")\n",
        "plt.xlabel(\"Evasão\")\n",
        "plt.ylabel(\"Total Gasto (R$)\")\n",
        "plt.show()\n"
      ],
      "metadata": {
        "colab": {
          "base_uri": "https://localhost:8080/",
          "height": 487
        },
        "id": "SDuoTbBWMi-p",
        "outputId": "ca29945a-7373-433f-d21b-c249ad7f94cc"
      },
      "execution_count": 9,
      "outputs": [
        {
          "output_type": "display_data",
          "data": {
            "text/plain": [
              "<Figure size 800x500 with 1 Axes>"
            ],
            "image/png": "[encoded data removed]"
          },
          "metadata": {}
        }
      ]
    },
    {
      "cell_type": "markdown",
      "source": [
        "# Separação de Dados"
      ],
      "metadata": {
        "id": "FXagRXtNEgpB"
      }
    },
    {
      "cell_type": "code",
      "source": [
        "# Substituir strings vazias ou espaços por NaN\n",
        "df_clean[\"Churn\"] = df_clean[\"Churn\"].replace({\"\": None, \" \": None})\n",
        "\n",
        "# Remover registros com Churn nulo ou inválido\n",
        "df_clean = df_clean[df_clean[\"Churn\"].notna()]\n",
        "\n",
        "# Agora sim: mapear para 0 e 1 e converter para int\n",
        "df_clean[\"Churn\"] = df_clean[\"Churn\"].replace({\"Yes\": 1, \"No\": 0}).astype(int)\n"
      ],
      "metadata": {
        "colab": {
          "base_uri": "https://localhost:8080/"
        },
        "id": "qvWEtjlz92Di",
        "outputId": "e9f4304f-f528-4ca6-d5d5-15d9dcda8b29"
      },
      "execution_count": 10,
      "outputs": [
        {
          "output_type": "stream",
          "name": "stderr",
          "text": [
            "/tmp/ipython-input-1219644642.py:8: FutureWarning: Downcasting behavior in `replace` is deprecated and will be removed in a future version. To retain the old behavior, explicitly call `result.infer_objects(copy=False)`. To opt-in to the future behavior, set `pd.set_option('future.no_silent_downcasting', True)`\n",
            "  df_clean[\"Churn\"] = df_clean[\"Churn\"].replace({\"Yes\": 1, \"No\": 0}).astype(int)\n"
          ]
        }
      ]
    },
    {
      "cell_type": "code",
      "source": [
        "# Converter Churn para 1 (Yes) e 0 (No)\n",
        "df_clean[\"Churn\"] = df_clean[\"Churn\"].replace({\"Yes\": 1, \"No\": 0}).astype(int)\n",
        "\n",
        "# Salvar a variável alvo (Churn)\n",
        "target = df_clean[\"Churn\"]\n",
        "\n",
        "# Codificar variáveis categóricas\n",
        "features = df_clean.drop(\"Churn\", axis=1)\n",
        "features_encoded = pd.get_dummies(features, drop_first=True)\n",
        "\n",
        "# Juntar features codificadas com target\n",
        "df_encoded = pd.concat([features_encoded, target], axis=1)\n",
        "\n",
        "# Separar X e y\n",
        "X = df_encoded.drop(\"Churn\", axis=1)\n",
        "y = df_encoded[\"Churn\"]\n",
        "\n",
        "# Garantir que y é int (reforçando)\n",
        "y = y.astype(int)\n",
        "\n",
        "# Dividir os dados\n",
        "from sklearn.model_selection import train_test_split\n",
        "X_train, X_test, y_train, y_test = train_test_split(X, y, test_size=0.3, stratify=y, random_state=42)\n",
        "\n",
        "# Mostrar tamanhos\n",
        "X_train.shape, X_test.shape\n",
        "\n"
      ],
      "metadata": {
        "id": "QuQjdcKvNDuO",
        "colab": {
          "base_uri": "https://localhost:8080/"
        },
        "outputId": "0664feaf-54a2-48a1-e3bf-1eac0eeb7a60"
      },
      "execution_count": 11,
      "outputs": [
        {
          "output_type": "execute_result",
          "data": {
            "text/plain": [
              "((4930, 30), (2113, 30))"
            ]
          },
          "metadata": {},
          "execution_count": 11
        }
      ]
    },
    {
      "cell_type": "markdown",
      "source": [
        "# Criação de Modelos"
      ],
      "metadata": {
        "id": "Y2zlA_GwNEPt"
      }
    },
    {
      "cell_type": "code",
      "source": [
        "# modelo regressao logistica(com normalização)\n",
        "\n",
        "from sklearn.preprocessing import StandardScaler\n",
        "from sklearn.linear_model import LogisticRegression\n",
        "from sklearn.metrics import classification_report, confusion_matrix\n",
        "\n",
        "# Remover linhas com valores ausentes\n",
        "X_train_clean = X_train.dropna()\n",
        "y_train_clean = y_train.loc[X_train_clean.index]\n",
        "\n",
        "X_test_clean = X_test.dropna()\n",
        "y_test_clean = y_test.loc[X_test_clean.index]\n",
        "\n",
        "# Normalizar\n",
        "scaler = StandardScaler()\n",
        "X_train_scaled = scaler.fit_transform(X_train_clean)\n",
        "X_test_scaled = scaler.transform(X_test_clean)\n",
        "\n",
        "# Treinar modelo\n",
        "log_model = LogisticRegression(max_iter=1000)\n",
        "log_model.fit(X_train_scaled, y_train_clean)\n",
        "\n",
        "# Avaliação\n",
        "from sklearn.metrics import classification_report, confusion_matrix\n",
        "y_pred_log = log_model.predict(X_test_scaled)\n",
        "print(confusion_matrix(y_test_clean, y_pred_log))\n",
        "print(classification_report(y_test_clean, y_pred_log))\n"
      ],
      "metadata": {
        "id": "CsXzF2tANGhT",
        "colab": {
          "base_uri": "https://localhost:8080/"
        },
        "outputId": "44618210-ddfb-46d8-ba86-7b6092bd9d6f"
      },
      "execution_count": 12,
      "outputs": [
        {
          "output_type": "stream",
          "name": "stdout",
          "text": [
            "[[1377  173]\n",
            " [ 255  306]]\n",
            "              precision    recall  f1-score   support\n",
            "\n",
            "           0       0.84      0.89      0.87      1550\n",
            "           1       0.64      0.55      0.59       561\n",
            "\n",
            "    accuracy                           0.80      2111\n",
            "   macro avg       0.74      0.72      0.73      2111\n",
            "weighted avg       0.79      0.80      0.79      2111\n",
            "\n"
          ]
        }
      ]
    },
    {
      "cell_type": "code",
      "source": [
        "# modelo random forest (sem normalizacao)\n",
        "\n",
        "from sklearn.ensemble import RandomForestClassifier\n",
        "\n",
        "# Treinar modelo\n",
        "rf_model = RandomForestClassifier(random_state=42)\n",
        "rf_model.fit(X_train, y_train)\n",
        "\n",
        "# Avaliação\n",
        "y_pred_rf = rf_model.predict(X_test)\n",
        "print(confusion_matrix(y_test, y_pred_rf))\n",
        "print(classification_report(y_test, y_pred_rf))"
      ],
      "metadata": {
        "colab": {
          "base_uri": "https://localhost:8080/"
        },
        "id": "43T0GNRfALGC",
        "outputId": "34ff6660-454e-4b92-8f8e-4aff06bbe28b"
      },
      "execution_count": 13,
      "outputs": [
        {
          "output_type": "stream",
          "name": "stdout",
          "text": [
            "[[1387  165]\n",
            " [ 292  269]]\n",
            "              precision    recall  f1-score   support\n",
            "\n",
            "           0       0.83      0.89      0.86      1552\n",
            "           1       0.62      0.48      0.54       561\n",
            "\n",
            "    accuracy                           0.78      2113\n",
            "   macro avg       0.72      0.69      0.70      2113\n",
            "weighted avg       0.77      0.78      0.77      2113\n",
            "\n"
          ]
        }
      ]
    },
    {
      "cell_type": "markdown",
      "source": [
        "# justificativa"
      ],
      "metadata": {
        "id": "LidDGLzOB4OM"
      }
    },
    {
      "cell_type": "markdown",
      "source": [
        "Para Modelo Regressão Logística é devido um modelo simples e interpretável, ideal para tarefas de classificação binária como prever se um cliente vai ou não evadir (churn). Requeriu a normalização uma vez que é sensível à escala dos dados.\n",
        "\n",
        "E por fim para o modelo Random Forest é por conta do modelo robusto e poderoso para classificação, mesmo com dados complexos e não linearmente separáveis. Não exigiu a normalização visto que é baseado em árvores de decisão, que tomam decisões por divisões nos valores das variáveis (splits)."
      ],
      "metadata": {
        "id": "2117qIFgCebQ"
      }
    },
    {
      "cell_type": "code",
      "source": [],
      "metadata": {
        "id": "8cqq4JwdAP_I"
      },
      "execution_count": 13,
      "outputs": []
    },
    {
      "cell_type": "markdown",
      "source": [
        "# Avaliação dos Modelos"
      ],
      "metadata": {
        "id": "gq99i9CQNHMR"
      }
    },
    {
      "cell_type": "code",
      "source": [
        "from sklearn.metrics import accuracy_score, precision_score, recall_score, f1_score, confusion_matrix, classification_report\n",
        "\n",
        "# Avaliação do modelo de Regressão Logística\n",
        "print(\"Avaliação: Regressão Logística\")\n",
        "print(\"Acurácia:\", accuracy_score(y_test_clean, y_pred_log))\n",
        "print(\"Precisão:\", precision_score(y_test_clean, y_pred_log))\n",
        "print(\"Recall:\", recall_score(y_test_clean, y_pred_log))\n",
        "print(\"F1-score:\", f1_score(y_test_clean, y_pred_log))\n",
        "print(\"Matriz de Confusão:\")\n",
        "print(confusion_matrix(y_test_clean, y_pred_log))\n",
        "print(\"\\nRelatório de Classificação:\\n\")\n",
        "print(classification_report(y_test_clean, y_pred_log))\n"
      ],
      "metadata": {
        "id": "9EqnvlIsNMBW",
        "colab": {
          "base_uri": "https://localhost:8080/"
        },
        "outputId": "9bdf93f6-dad6-4b05-afc5-77c4a35fbac5"
      },
      "execution_count": 14,
      "outputs": [
        {
          "output_type": "stream",
          "name": "stdout",
          "text": [
            "Avaliação: Regressão Logística\n",
            "Acurácia: 0.7972524869729986\n",
            "Precisão: 0.6388308977035491\n",
            "Recall: 0.5454545454545454\n",
            "F1-score: 0.5884615384615385\n",
            "Matriz de Confusão:\n",
            "[[1377  173]\n",
            " [ 255  306]]\n",
            "\n",
            "Relatório de Classificação:\n",
            "\n",
            "              precision    recall  f1-score   support\n",
            "\n",
            "           0       0.84      0.89      0.87      1550\n",
            "           1       0.64      0.55      0.59       561\n",
            "\n",
            "    accuracy                           0.80      2111\n",
            "   macro avg       0.74      0.72      0.73      2111\n",
            "weighted avg       0.79      0.80      0.79      2111\n",
            "\n"
          ]
        }
      ]
    },
    {
      "cell_type": "code",
      "source": [
        "# Avaliação do modelo Random Forest\n",
        "print(\"Avaliação: Random Forest\")\n",
        "print(\"Acurácia:\", accuracy_score(y_test, y_pred_rf))\n",
        "print(\"Precisão:\", precision_score(y_test, y_pred_rf))\n",
        "print(\"Recall:\", recall_score(y_test, y_pred_rf))\n",
        "print(\"F1-score:\", f1_score(y_test, y_pred_rf))\n",
        "print(\"Matriz de Confusão:\")\n",
        "print(confusion_matrix(y_test, y_pred_rf))\n",
        "print(\"\\nRelatório de Classificação:\\n\")\n",
        "print(classification_report(y_test, y_pred_rf))\n"
      ],
      "metadata": {
        "colab": {
          "base_uri": "https://localhost:8080/"
        },
        "id": "wxTOE_cPEhHf",
        "outputId": "c6a2c624-1fdf-47c5-a1f3-f50e3fe78b5c"
      },
      "execution_count": 15,
      "outputs": [
        {
          "output_type": "stream",
          "name": "stdout",
          "text": [
            "Avaliação: Random Forest\n",
            "Acurácia: 0.783719829626124\n",
            "Precisão: 0.619815668202765\n",
            "Recall: 0.47950089126559714\n",
            "F1-score: 0.5407035175879397\n",
            "Matriz de Confusão:\n",
            "[[1387  165]\n",
            " [ 292  269]]\n",
            "\n",
            "Relatório de Classificação:\n",
            "\n",
            "              precision    recall  f1-score   support\n",
            "\n",
            "           0       0.83      0.89      0.86      1552\n",
            "           1       0.62      0.48      0.54       561\n",
            "\n",
            "    accuracy                           0.78      2113\n",
            "   macro avg       0.72      0.69      0.70      2113\n",
            "weighted avg       0.77      0.78      0.77      2113\n",
            "\n"
          ]
        }
      ]
    },
    {
      "cell_type": "markdown",
      "source": [
        "# Comparação geral de desempenho:\n",
        "\n",
        "Regressão Logística tende a apresentar métricas equilibradas, mas como é um modelo linear, pode ter dificuldade com relações não-lineares entre variáveis.\n",
        "\n",
        "Random Forest geralmente tem acurácia mais alta e captura padrões mais complexos porque combina várias árvores de decisão.\n",
        "\n"
      ],
      "metadata": {
        "id": "YpPLRAG6E1dD"
      }
    },
    {
      "cell_type": "code",
      "source": [],
      "metadata": {
        "id": "791IAV67C_VT"
      },
      "execution_count": null,
      "outputs": []
    },
    {
      "cell_type": "markdown",
      "source": [
        "# Análise de Importância das Variáveis"
      ],
      "metadata": {
        "id": "EFV3AzhTNNR3"
      }
    },
    {
      "cell_type": "markdown",
      "source": [
        "Regressão Logística:\n",
        "\n",
        "Como é um modelo linear, os coeficientes (coef_) indicam o peso de cada variável na previsão.\n",
        "\n",
        "Sinal positivo → aumenta a probabilidade de churn.\n",
        "\n",
        "Sinal negativo → reduz a probabilidade de churn."
      ],
      "metadata": {
        "id": "SAD1Cg_wHAi1"
      }
    },
    {
      "cell_type": "code",
      "source": [
        "# Coeficientes da Regressão Logística\n",
        "coef_df = pd.DataFrame({\n",
        "    \"Variável\": X.columns,\n",
        "    \"Coeficiente\": log_model.coef_[0]\n",
        "}).sort_values(by=\"Coeficiente\", ascending=False)\n",
        "\n",
        "print(\"Variáveis mais influentes - Regressão Logística:\")\n",
        "print(coef_df.head(10))\n"
      ],
      "metadata": {
        "id": "M6AkBsy3NVBS",
        "colab": {
          "base_uri": "https://localhost:8080/"
        },
        "outputId": "c0a79cd9-57d1-42e7-b464-b3a48123eea0"
      },
      "execution_count": 16,
      "outputs": [
        {
          "output_type": "stream",
          "name": "stdout",
          "text": [
            "Variáveis mais influentes - Regressão Logística:\n",
            "                          Variável  Coeficiente\n",
            "7                     TotalCharges     0.735544\n",
            "11     InternetService_Fiber optic     0.556234\n",
            "5                 PaperlessBilling     0.201971\n",
            "28  PaymentMethod_Electronic check     0.172715\n",
            "22                 StreamingTV_Yes     0.170200\n",
            "10               MultipleLines_Yes     0.165556\n",
            "24             StreamingMovies_Yes     0.149195\n",
            "0                    SeniorCitizen     0.063049\n",
            "9   MultipleLines_No phone service     0.041074\n",
            "18            DeviceProtection_Yes     0.025542\n"
          ]
        }
      ]
    },
    {
      "cell_type": "code",
      "source": [],
      "metadata": {
        "id": "2XSRHWQSIbi2"
      },
      "execution_count": null,
      "outputs": []
    },
    {
      "cell_type": "markdown",
      "source": [
        "KNN (K-Nearest Neighbors):\n",
        "\n",
        "O KNN não fornece importância direta das variáveis.\n",
        "\n",
        "Podemos usar Permutation Importance para medir o impacto de cada variável na acurácia do modelo."
      ],
      "metadata": {
        "id": "TNXosJxIHQsw"
      }
    },
    {
      "cell_type": "code",
      "source": [
        "from sklearn.impute import SimpleImputer\n",
        "from sklearn.preprocessing import StandardScaler\n",
        "\n",
        "# Imputar valores ausentes em X_train e X_test\n",
        "imputer = SimpleImputer(strategy=\"median\")\n",
        "X_train_imp = imputer.fit_transform(X_train)\n",
        "X_test_imp = imputer.transform(X_test)\n",
        "\n",
        "# Escalar os dados\n",
        "scaler = StandardScaler()\n",
        "X_train_scaled = scaler.fit_transform(X_train_imp)\n",
        "X_test_scaled = scaler.transform(X_test_imp)\n",
        "\n",
        "# Garantir que y_train e y_test correspondam às linhas corretas\n",
        "y_train = y_train.reset_index(drop=True)\n",
        "y_test = y_test.reset_index(drop=True)\n"
      ],
      "metadata": {
        "id": "ibt6-fb0H-pb"
      },
      "execution_count": 21,
      "outputs": []
    },
    {
      "cell_type": "code",
      "source": [
        "from sklearn.neighbors import KNeighborsClassifier\n",
        "from sklearn.inspection import permutation_importance\n",
        "\n",
        "knn_model = KNeighborsClassifier(n_neighbors=5)\n",
        "knn_model.fit(X_train_scaled, y_train)\n",
        "\n",
        "result_knn = permutation_importance(knn_model, X_test_scaled, y_test, n_repeats=10, random_state=42)\n",
        "knn_importance = pd.DataFrame({\n",
        "    \"Variável\": X.columns,\n",
        "    \"Importância\": result_knn.importances_mean\n",
        "}).sort_values(by=\"Importância\", ascending=False)\n",
        "\n",
        "print(\"Variáveis mais influentes - KNN:\")\n",
        "print(knn_importance.head(10))\n"
      ],
      "metadata": {
        "colab": {
          "base_uri": "https://localhost:8080/"
        },
        "id": "vN37PgOMHJJ4",
        "outputId": "2bdf3986-fd19-4606-da83-d597eb3adfac"
      },
      "execution_count": 22,
      "outputs": [
        {
          "output_type": "stream",
          "name": "stdout",
          "text": [
            "Variáveis mais influentes - KNN:\n",
            "                               Variável  Importância\n",
            "3                                Tenure     0.009371\n",
            "11          InternetService_Fiber optic     0.004023\n",
            "7                          TotalCharges     0.003171\n",
            "14                   OnlineSecurity_Yes     0.003124\n",
            "5                      PaperlessBilling     0.002603\n",
            "25                    Contract_One year     0.002603\n",
            "26                    Contract_Two year     0.000331\n",
            "19      TechSupport_No internet service     0.000000\n",
            "23  StreamingMovies_No internet service     0.000000\n",
            "21      StreamingTV_No internet service     0.000000\n"
          ]
        }
      ]
    },
    {
      "cell_type": "code",
      "source": [],
      "metadata": {
        "id": "YoUsuP1_IaXk"
      },
      "execution_count": null,
      "outputs": []
    },
    {
      "cell_type": "markdown",
      "source": [
        "Random Forest:\n",
        "\n",
        "O modelo já calcula a importância das variáveis com base na redução média da impureza (Gini ou Entropia)."
      ],
      "metadata": {
        "id": "-pzUfkqVHgG3"
      }
    },
    {
      "cell_type": "code",
      "source": [
        "rf_importance = pd.DataFrame({\n",
        "    \"Variável\": X.columns,\n",
        "    \"Importância\": rf_model.feature_importances_\n",
        "}).sort_values(by=\"Importância\", ascending=False)\n",
        "\n",
        "print(\" Variáveis mais influentes - Random Forest:\")\n",
        "print(rf_importance.head(10))\n"
      ],
      "metadata": {
        "colab": {
          "base_uri": "https://localhost:8080/"
        },
        "id": "J6HPXj-mHJGd",
        "outputId": "3a20c19f-7bc1-4b07-e738-11e2cbedbb10"
      },
      "execution_count": 19,
      "outputs": [
        {
          "output_type": "stream",
          "name": "stdout",
          "text": [
            " Variáveis mais influentes - Random Forest:\n",
            "                          Variável  Importância\n",
            "7                     TotalCharges     0.190867\n",
            "3                           Tenure     0.172024\n",
            "6                   MonthlyCharges     0.166076\n",
            "28  PaymentMethod_Electronic check     0.039037\n",
            "11     InternetService_Fiber optic     0.037583\n",
            "26               Contract_Two year     0.030555\n",
            "8                      Gender_Male     0.029031\n",
            "5                 PaperlessBilling     0.026534\n",
            "14              OnlineSecurity_Yes     0.025220\n",
            "25               Contract_One year     0.024354\n"
          ]
        }
      ]
    },
    {
      "cell_type": "code",
      "source": [],
      "metadata": {
        "id": "Jgmgs7X8IZD7"
      },
      "execution_count": null,
      "outputs": []
    },
    {
      "cell_type": "markdown",
      "source": [
        "SVM (Support Vector Machine):\n",
        "\n",
        "Em SVM linear (kernel='linear'), os coeficientes (coef_) indicam a influência de cada variável na fronteira de decisão."
      ],
      "metadata": {
        "id": "vfeBt7ecHqSo"
      }
    },
    {
      "cell_type": "code",
      "source": [
        "from sklearn.impute import SimpleImputer\n",
        "from sklearn.preprocessing import StandardScaler\n",
        "\n",
        "# Imputar valores ausentes em X_train e X_test\n",
        "imputer = SimpleImputer(strategy=\"median\")\n",
        "X_train_imp = imputer.fit_transform(X_train)\n",
        "X_test_imp = imputer.transform(X_test)\n",
        "\n",
        "# Escalar os dados\n",
        "scaler = StandardScaler()\n",
        "X_train_scaled = scaler.fit_transform(X_train_imp)\n",
        "X_test_scaled = scaler.transform(X_test_imp)\n",
        "\n",
        "# Garantir que y_train e y_test correspondam às linhas corretas\n",
        "y_train = y_train.reset_index(drop=True)\n",
        "y_test = y_test.reset_index(drop=True)"
      ],
      "metadata": {
        "id": "X8OY2TywIRZ8"
      },
      "execution_count": 24,
      "outputs": []
    },
    {
      "cell_type": "code",
      "source": [
        "from sklearn.svm import SVC\n",
        "\n",
        "svm_model = SVC(kernel=\"linear\")\n",
        "svm_model.fit(X_train_scaled, y_train)\n",
        "\n",
        "svm_coef_df = pd.DataFrame({\n",
        "    \"Variável\": X.columns,\n",
        "    \"Coeficiente\": svm_model.coef_[0]\n",
        "}).sort_values(by=\"Coeficiente\", ascending=False)\n",
        "\n",
        "print(\"Variáveis mais influentes - SVM:\")\n",
        "print(svm_coef_df.head(10))\n"
      ],
      "metadata": {
        "colab": {
          "base_uri": "https://localhost:8080/"
        },
        "id": "TRnsriX9HJCU",
        "outputId": "144dee3e-37aa-4bcb-e49b-786cbc37ea07"
      },
      "execution_count": 25,
      "outputs": [
        {
          "output_type": "stream",
          "name": "stdout",
          "text": [
            "Variáveis mais influentes - SVM:\n",
            "                          Variável  Coeficiente\n",
            "11     InternetService_Fiber optic     0.716133\n",
            "24             StreamingMovies_Yes     0.139491\n",
            "22                 StreamingTV_Yes     0.137970\n",
            "28  PaymentMethod_Electronic check     0.132668\n",
            "10               MultipleLines_Yes     0.130880\n",
            "5                 PaperlessBilling     0.118956\n",
            "0                    SeniorCitizen     0.049756\n",
            "18            DeviceProtection_Yes     0.036833\n",
            "9   MultipleLines_No phone service     0.032322\n",
            "1                          Partner     0.013734\n"
          ]
        }
      ]
    },
    {
      "cell_type": "code",
      "source": [],
      "metadata": {
        "id": "SMM2GzIkHI-1"
      },
      "execution_count": null,
      "outputs": []
    },
    {
      "cell_type": "markdown",
      "metadata": {
        "id": "-wW1PcKCXP_8"
      },
      "source": [
        "# Conclusão"
      ]
    },
    {
      "cell_type": "markdown",
      "metadata": {
        "id": "7NICVjlZ-PxA"
      },
      "source": [
        "Com base na análise dos coeficientes (modelos lineares) e importâncias (modelos não lineares) os fatores que mais influenciam a evasão, com base nas variáveis selecionadas e no desempenho de cada modelo foram:\n",
        "\n",
        "(a)Tempo de contrato (Tenure) - clientes com pouco tempo de contrato apresentam maior probabilidade de evasão. Em modelos como Random Forest, essa foi a variável mais importante.\n",
        "\n",
        "(b)Tipo de contrato (Contract) - Contratos mensais têm alta taxa de churn.Planos anuais/bianuais reduzem a probabilidade de cancelamento.\n",
        "\n",
        "(c)Total gasto (TotalCharges) - Valores baixos de gasto total estão associados a clientes recentes, com maior risco de saída.\n",
        "\n",
        "(d)Charges mensais (MonthlyCharges) - Valores muito altos podem aumentar a evasão, especialmente em clientes novos.\n",
        "\n",
        "\n",
        "\n",
        "\n",
        "\n",
        "As estratégias de retenção com base nos resultados obtidos são:\n",
        "\n",
        "(a)Programas de fidelização para novos clientes - Oferecer incentivos no primeiro ano (descontos ou upgrades de serviço).\n",
        "\n",
        "(b)Promoção de contratos mais longos - Campanhas de migração de contratos mensais para anuais, com benefícios adicionais.\n",
        "\n",
        "(c) Monitoramento de clientes com alta cobrança mensal - Avaliar elasticidade de preço e oferecer pacotes personalizados.\n",
        "\n",
        "(d)Ações proativas para clientes sem engajamento - Contato ativo (e-mail, telefone) para clientes com pouco tempo e poucos serviços ativos."
      ]
    }
  ],
  "metadata": {
    "colab": {
      "provenance": []
    },
    "kernelspec": {
      "display_name": "Python 3",
      "name": "python3"
    },
    "language_info": {
      "name": "python"
    }
  },
  "nbformat": 4,
  "nbformat_minor": 0
}